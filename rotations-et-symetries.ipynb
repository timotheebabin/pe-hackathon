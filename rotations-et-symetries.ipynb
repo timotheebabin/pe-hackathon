{
 "cells": [
  {
   "cell_type": "code",
   "execution_count": null,
   "id": "cba0f5b5-506a-4f01-8658-f430a5a64916",
   "metadata": {},
   "outputs": [],
   "source": [
    "dico = {}\n",
    "\n",
    "def rot_sym(lettre):\n",
    "    \n",
    "    piece = raw_shapes[lettre]\n",
    "    L = [piece]\n",
    "    \n",
    "    def pi_demi(M):                                #fonction rotation de pi/2 dans le sens trigo\n",
    "        M_n,M_m = np.shape(M)\n",
    "        R = np.zeros(shape=(M_m,M_n))\n",
    "        for i in range(M_m):\n",
    "            for j in range(M_n):\n",
    "                R[i][j] = M[j][M_m-i-1]\n",
    "        return(R)\n",
    "        \n",
    "    def axial(M):                                  #fonction symétrie axiale\n",
    "        return(np.transpose(np.transpose(M)[::-1]))\n",
    "\n",
    "    def applique_rot(mat):                         #ajoute les rotations successives différentes à la liste\n",
    "        K = pi_demi(mat)\n",
    "        while not np.array_equal(K, mat) :\n",
    "            L.append(K)\n",
    "            K = pi_demi(K)\n",
    "        return(L)\n",
    "\n",
    "    piece_sym = axial(piece)\n",
    "    \n",
    "    applique_rot(piece)                            #ajoute les rotations de piece\n",
    "    if not np.array_equal(piece_sym, piece) :\n",
    "        L.append(piece_sym)                        #ajoute le symétrique de piece\n",
    "        applique_rot(piece_sym)                    #ajoute les rotations successives du symétrique\n",
    "\n",
    "    dico[lettre] = L                               #ajoute la liste à la clé lettre\n",
    "    return L\n",
    "\n",
    "\n"
   ]
  }
 ],
 "metadata": {
  "kernelspec": {
   "display_name": "Python 3 (ipykernel)",
   "language": "python",
   "name": "python3"
  },
  "language_info": {
   "codemirror_mode": {
    "name": "ipython",
    "version": 3
   },
   "file_extension": ".py",
   "mimetype": "text/x-python",
   "name": "python",
   "nbconvert_exporter": "python",
   "pygments_lexer": "ipython3",
   "version": "3.12.4"
  }
 },
 "nbformat": 4,
 "nbformat_minor": 5
}
