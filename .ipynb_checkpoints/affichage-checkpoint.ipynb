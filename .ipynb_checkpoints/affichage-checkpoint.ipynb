{
 "cells": [
  {
   "cell_type": "code",
   "execution_count": 1,
   "id": "27f0797d-19ac-40ed-a88f-ea0885151033",
   "metadata": {},
   "outputs": [],
   "source": [
    "import matplotlib as plt"
   ]
  },
  {
   "cell_type": "code",
   "execution_count": null,
   "id": "e096cd58-11d1-48eb-8cf6-61d340bd94f4",
   "metadata": {},
   "outputs": [],
   "source": [
    "raw_shape= {\"F\": [[1, 1, 0], [0, 1, 1], [0, 1, 0]],\n",
    "    \"I\": [[1, 1, 1, 1, 1]],\n",
    "    \"L\": [[1, 0, 0, 0], [1, 1, 1, 1]],\n",
    "    \"N\": [[1, 1, 0, 0], [0, 1, 1, 1]],\n",
    "    \"P\": [[1, 1, 1], [1, 1, 0]],\n",
    "    \"T\": [[1, 1, 1], [0, 1, 0], [0, 1, 0]],\n",
    "    \"U\": [[1, 1, 1], [1, 0, 1]],\n",
    "    \"V\": [[1, 1, 1], [1, 0, 0], [1, 0, 0]],\n",
    "    \"W\": [[1, 0, 0], [1, 1, 0], [0, 1, 1]],\n",
    "    \"X\": [[0, 1, 0], [1, 1, 1], [0, 1, 0]],\n",
    "    \"Y\": [[0, 1, 0, 0], [1, 1, 1, 1]],\n",
    "    \"Z\": [[1, 1, 0], [0, 1, 0], [0, 1, 1]]}"
   ]
  },
  {
   "cell_type": "code",
   "execution_count": null,
   "id": "46f1c976-341f-4afe-85c6-96c9614894ad",
   "metadata": {},
   "outputs": [],
   "source": [
    "XXXFINAL =\n",
    "\n",
    "def afficher_solu(solu):\n",
    "    resultat = carte.copy()\n",
    "    dicoordonnee={}\n",
    "    dicoindice={}\n",
    "\n",
    "    def dicoord(tab):\n",
    "        t_n,t_m=np.shape(tab)\n",
    "        for i in range(t_n):\n",
    "            for j in range(t_m):\n",
    "                c = num_carte(tab)[i][j]\n",
    "                if c != 0 :\n",
    "                    dicoindice[(i,j)]=c\n",
    "                    dicoposition[c]=(i,j)\n",
    "        return(dicoordonnee,dicoindice)\n",
    "\n",
    "    r_n,r_m=np.shape(resultat)\n",
    "    \n",
    "    for k in range(len(solu)):\n",
    "        vect=XXXFINAL[k]\n",
    "        for j in range(0,12):\n",
    "            if vect[j]==1:\n",
    "                let_ind=j\n",
    "        for i in range(12,72):\n",
    "            if vect[i]==1:\n",
    "                resultat[dicoindice[i-11]]=let_ind+2\n",
    "    return(resultat)\n",
    "\n",
    "\n",
    "        \n",
    "                \n",
    "                \n",
    "    \n",
    "    \n",
    "    \n",
    "    \n",
    "    for i in range(r_n):\n",
    "        for j in range(r_m):\n",
    "            for k in ran\n",
    "            XXXFINAL[\n",
    "            solu[c+11]\n",
    "\n",
    "\n",
    "dicouleur = {vecteur:couleur}\n",
    "dicoindice = {indice:coordonnées}\n",
    "dicoordonnee = {coordonnées:indice}\n",
    "\n",
    "\n",
    "\n",
    "\n",
    "\n",
    "\n",
    "\n"
   ]
  }
 ],
 "metadata": {
  "kernelspec": {
   "display_name": "Python 3 (ipykernel)",
   "language": "python",
   "name": "python3"
  },
  "language_info": {
   "codemirror_mode": {
    "name": "ipython",
    "version": 3
   },
   "file_extension": ".py",
   "mimetype": "text/x-python",
   "name": "python",
   "nbconvert_exporter": "python",
   "pygments_lexer": "ipython3",
   "version": "3.12.4"
  }
 },
 "nbformat": 4,
 "nbformat_minor": 5
}
